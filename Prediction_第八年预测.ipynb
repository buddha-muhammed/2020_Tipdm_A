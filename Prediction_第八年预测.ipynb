{
 "cells": [
  {
   "cell_type": "code",
   "execution_count": 78,
   "metadata": {},
   "outputs": [],
   "source": [
    "import numpy as np\n",
    "import pandas as pd\n",
    "import warnings\n",
    "warnings.filterwarnings(\"ignore\")"
   ]
  },
  {
   "cell_type": "code",
   "execution_count": 43,
   "metadata": {},
   "outputs": [],
   "source": [
    "# 读取预处理之前的数据\n",
    "data = pd.read_csv('temp/因子数据初提取.csv',encoding = 'GBK',engine = 'python')"
   ]
  },
  {
   "cell_type": "code",
   "execution_count": 44,
   "metadata": {},
   "outputs": [],
   "source": [
    "# 读取需要预测的数据\n",
    "data_7 = data[data['年份（年末）'] == 7]\n",
    "\n",
    "fac_col = ['总股本',\n",
    "         '每股资本公积',\n",
    "         '每股未分配利润',\n",
    "         '基本每股收益',\n",
    "         '基本每股收益同比增长(%)',\n",
    "         '每股净资产',\n",
    "         '每股现金流',\n",
    "         '每股营业收入',\n",
    "         '摊薄净资产收益率同比增长(%)',\n",
    "         '净利润同比增长',\n",
    "         '上市年限',\n",
    "         '交通运输、仓储和邮政业',\n",
    "         '住宿和餐饮业',\n",
    "         '信息传输、软件和信息技术服务业',\n",
    "         '制造业',\n",
    "         '房地产业',\n",
    "         '批发和零售业',\n",
    "         '电力、热力、燃气及水生产和供应业',\n",
    "         '综合',\n",
    "         '采矿业',\n",
    "         '是否有行业龙头概念',\n",
    "         '股价（年末最后20个交易日收盘价加权平均）',\n",
    "         '股价年化波动率',\n",
    "         '本年送转比例',\n",
    "         '近两年送转比例平均']\n",
    "\n",
    "# 提取第七年单因素方差分析筛选过的因子\n",
    "data_pred = data_7[['股票编号','年份（年末）']].copy()\n",
    "data_pred[fac_col] = data_7[fac_col]\n",
    "\n",
    "# 重置索引\n",
    "data_pred.reset_index(inplace = True)\n",
    "data_pred.drop(axis = 0,columns = 'index',inplace = True)"
   ]
  },
  {
   "cell_type": "code",
   "execution_count": 45,
   "metadata": {},
   "outputs": [
    {
     "data": {
      "text/plain": [
       "(3466, 27)"
      ]
     },
     "execution_count": 45,
     "metadata": {},
     "output_type": "execute_result"
    }
   ],
   "source": [
    "data_pred.shape"
   ]
  },
  {
   "cell_type": "code",
   "execution_count": 46,
   "metadata": {},
   "outputs": [
    {
     "data": {
      "text/plain": [
       "25"
      ]
     },
     "execution_count": 46,
     "metadata": {},
     "output_type": "execute_result"
    }
   ],
   "source": [
    "len(data_pred.columns[2:])"
   ]
  },
  {
   "cell_type": "code",
   "execution_count": 47,
   "metadata": {},
   "outputs": [
    {
     "data": {
      "text/plain": [
       "股票编号                      0\n",
       "年份（年末）                    0\n",
       "总股本                       0\n",
       "每股资本公积                   10\n",
       "每股未分配利润                   1\n",
       "基本每股收益                    1\n",
       "基本每股收益同比增长(%)             1\n",
       "每股净资产                    25\n",
       "每股现金流                     0\n",
       "每股营业收入                    0\n",
       "摊薄净资产收益率同比增长(%)          52\n",
       "净利润同比增长                   0\n",
       "上市年限                      0\n",
       "交通运输、仓储和邮政业               0\n",
       "住宿和餐饮业                    0\n",
       "信息传输、软件和信息技术服务业           0\n",
       "制造业                       0\n",
       "房地产业                      0\n",
       "批发和零售业                    0\n",
       "电力、热力、燃气及水生产和供应业          0\n",
       "综合                        0\n",
       "采矿业                       0\n",
       "是否有行业龙头概念                 0\n",
       "股价（年末最后20个交易日收盘价加权平均）     0\n",
       "股价年化波动率                   0\n",
       "本年送转比例                    0\n",
       "近两年送转比例平均                 0\n",
       "dtype: int64"
      ]
     },
     "execution_count": 47,
     "metadata": {},
     "output_type": "execute_result"
    }
   ],
   "source": [
    "data_pred.isnull().sum()"
   ]
  },
  {
   "cell_type": "code",
   "execution_count": 48,
   "metadata": {},
   "outputs": [],
   "source": [
    "# 缺失值处理\n",
    "for i in data_pred.columns[2:]:\n",
    "    for j in range(len(data_pred)):\n",
    "        if (data_pred[i].isnull())[j]: # 若为空值，则用该年份该因子的平均值填充\n",
    "            year = data_pred.iloc[j]['年份（年末）']\n",
    "            avg = np.mean(data_pred[data_pred['年份（年末）'] == year][i])\n",
    "            data_pred[i][j] = avg"
   ]
  },
  {
   "cell_type": "code",
   "execution_count": 49,
   "metadata": {},
   "outputs": [
    {
     "data": {
      "text/plain": [
       "股票编号                     0\n",
       "年份（年末）                   0\n",
       "总股本                      0\n",
       "每股资本公积                   0\n",
       "每股未分配利润                  0\n",
       "基本每股收益                   0\n",
       "基本每股收益同比增长(%)            0\n",
       "每股净资产                    0\n",
       "每股现金流                    0\n",
       "每股营业收入                   0\n",
       "摊薄净资产收益率同比增长(%)          0\n",
       "净利润同比增长                  0\n",
       "上市年限                     0\n",
       "交通运输、仓储和邮政业              0\n",
       "住宿和餐饮业                   0\n",
       "信息传输、软件和信息技术服务业          0\n",
       "制造业                      0\n",
       "房地产业                     0\n",
       "批发和零售业                   0\n",
       "电力、热力、燃气及水生产和供应业         0\n",
       "综合                       0\n",
       "采矿业                      0\n",
       "是否有行业龙头概念                0\n",
       "股价（年末最后20个交易日收盘价加权平均）    0\n",
       "股价年化波动率                  0\n",
       "本年送转比例                   0\n",
       "近两年送转比例平均                0\n",
       "dtype: int64"
      ]
     },
     "execution_count": 49,
     "metadata": {},
     "output_type": "execute_result"
    }
   ],
   "source": [
    "data_pred.isnull().sum()"
   ]
  },
  {
   "cell_type": "code",
   "execution_count": 50,
   "metadata": {},
   "outputs": [
    {
     "data": {
      "text/plain": [
       "Index(['每股资本公积', '每股未分配利润', '基本每股收益', '基本每股收益同比增长(%)', '每股净资产', '每股现金流',\n",
       "       '每股营业收入', '摊薄净资产收益率同比增长(%)'],\n",
       "      dtype='object')"
      ]
     },
     "execution_count": 50,
     "metadata": {},
     "output_type": "execute_result"
    }
   ],
   "source": [
    "data_pred.columns[3:11]"
   ]
  },
  {
   "cell_type": "code",
   "execution_count": 51,
   "metadata": {},
   "outputs": [],
   "source": [
    "# 极端值处理\n",
    "for i in data_pred.columns[3:11]:\n",
    "    mean = data_pred.describe()[i]['mean']\n",
    "    std = data_pred.describe()[i]['std']\n",
    "    #print(i)\n",
    "    #print('mean:%.2f'%mean)\n",
    "    #print('std:%.2f'%std)\n",
    "    for j in range(len(data_pred)):\n",
    "        if data_pred[i][j] > mean + 3*std:\n",
    "            data_pred[i][j] = mean + 3*std\n",
    "        elif data_pred[i][j] < mean - 3*std:\n",
    "            data_pred[i][j] = mean - 3*std"
   ]
  },
  {
   "cell_type": "code",
   "execution_count": 52,
   "metadata": {},
   "outputs": [
    {
     "data": {
      "text/html": [
       "<div>\n",
       "<style scoped>\n",
       "    .dataframe tbody tr th:only-of-type {\n",
       "        vertical-align: middle;\n",
       "    }\n",
       "\n",
       "    .dataframe tbody tr th {\n",
       "        vertical-align: top;\n",
       "    }\n",
       "\n",
       "    .dataframe thead th {\n",
       "        text-align: right;\n",
       "    }\n",
       "</style>\n",
       "<table border=\"1\" class=\"dataframe\">\n",
       "  <thead>\n",
       "    <tr style=\"text-align: right;\">\n",
       "      <th></th>\n",
       "      <th>股票编号</th>\n",
       "      <th>年份（年末）</th>\n",
       "      <th>总股本</th>\n",
       "      <th>每股资本公积</th>\n",
       "      <th>每股未分配利润</th>\n",
       "      <th>基本每股收益</th>\n",
       "      <th>基本每股收益同比增长(%)</th>\n",
       "      <th>每股净资产</th>\n",
       "      <th>每股现金流</th>\n",
       "      <th>每股营业收入</th>\n",
       "      <th>...</th>\n",
       "      <th>房地产业</th>\n",
       "      <th>批发和零售业</th>\n",
       "      <th>电力、热力、燃气及水生产和供应业</th>\n",
       "      <th>综合</th>\n",
       "      <th>采矿业</th>\n",
       "      <th>是否有行业龙头概念</th>\n",
       "      <th>股价（年末最后20个交易日收盘价加权平均）</th>\n",
       "      <th>股价年化波动率</th>\n",
       "      <th>本年送转比例</th>\n",
       "      <th>近两年送转比例平均</th>\n",
       "    </tr>\n",
       "  </thead>\n",
       "  <tbody>\n",
       "    <tr>\n",
       "      <th>count</th>\n",
       "      <td>3466.000000</td>\n",
       "      <td>3466.0</td>\n",
       "      <td>3.466000e+03</td>\n",
       "      <td>3466.000000</td>\n",
       "      <td>3466.000000</td>\n",
       "      <td>3466.000000</td>\n",
       "      <td>3466.000000</td>\n",
       "      <td>3466.000000</td>\n",
       "      <td>3466.000000</td>\n",
       "      <td>3466.000000</td>\n",
       "      <td>...</td>\n",
       "      <td>3466.000000</td>\n",
       "      <td>3466.000000</td>\n",
       "      <td>3466.000000</td>\n",
       "      <td>3466.000000</td>\n",
       "      <td>3466.000000</td>\n",
       "      <td>3466.000000</td>\n",
       "      <td>3466.000000</td>\n",
       "      <td>3466.000000</td>\n",
       "      <td>3466.000000</td>\n",
       "      <td>3466.000000</td>\n",
       "    </tr>\n",
       "    <tr>\n",
       "      <th>mean</th>\n",
       "      <td>1733.500000</td>\n",
       "      <td>7.0</td>\n",
       "      <td>1.740856e+09</td>\n",
       "      <td>2.117344</td>\n",
       "      <td>1.470473</td>\n",
       "      <td>0.386744</td>\n",
       "      <td>4.550138</td>\n",
       "      <td>4.858675</td>\n",
       "      <td>0.157358</td>\n",
       "      <td>5.978280</td>\n",
       "      <td>...</td>\n",
       "      <td>0.036065</td>\n",
       "      <td>0.047317</td>\n",
       "      <td>0.030871</td>\n",
       "      <td>0.006924</td>\n",
       "      <td>0.021639</td>\n",
       "      <td>0.122620</td>\n",
       "      <td>14.790861</td>\n",
       "      <td>0.348058</td>\n",
       "      <td>0.225274</td>\n",
       "      <td>0.217875</td>\n",
       "    </tr>\n",
       "    <tr>\n",
       "      <th>std</th>\n",
       "      <td>1000.692344</td>\n",
       "      <td>0.0</td>\n",
       "      <td>1.152613e+10</td>\n",
       "      <td>1.857322</td>\n",
       "      <td>1.668506</td>\n",
       "      <td>0.498584</td>\n",
       "      <td>278.326589</td>\n",
       "      <td>3.034256</td>\n",
       "      <td>0.988254</td>\n",
       "      <td>7.043480</td>\n",
       "      <td>...</td>\n",
       "      <td>0.186478</td>\n",
       "      <td>0.212346</td>\n",
       "      <td>0.172994</td>\n",
       "      <td>0.082936</td>\n",
       "      <td>0.145522</td>\n",
       "      <td>0.328048</td>\n",
       "      <td>16.664863</td>\n",
       "      <td>0.121286</td>\n",
       "      <td>0.378512</td>\n",
       "      <td>0.318029</td>\n",
       "    </tr>\n",
       "    <tr>\n",
       "      <th>min</th>\n",
       "      <td>1.000000</td>\n",
       "      <td>7.0</td>\n",
       "      <td>4.216000e+07</td>\n",
       "      <td>-1.184800</td>\n",
       "      <td>-4.864241</td>\n",
       "      <td>-1.697218</td>\n",
       "      <td>-1913.611835</td>\n",
       "      <td>-2.658300</td>\n",
       "      <td>-3.712726</td>\n",
       "      <td>0.019200</td>\n",
       "      <td>...</td>\n",
       "      <td>0.000000</td>\n",
       "      <td>0.000000</td>\n",
       "      <td>0.000000</td>\n",
       "      <td>0.000000</td>\n",
       "      <td>0.000000</td>\n",
       "      <td>0.000000</td>\n",
       "      <td>1.169499</td>\n",
       "      <td>0.000000</td>\n",
       "      <td>0.000000</td>\n",
       "      <td>0.000000</td>\n",
       "    </tr>\n",
       "    <tr>\n",
       "      <th>25%</th>\n",
       "      <td>867.250000</td>\n",
       "      <td>7.0</td>\n",
       "      <td>2.725216e+08</td>\n",
       "      <td>0.787450</td>\n",
       "      <td>0.588625</td>\n",
       "      <td>0.119400</td>\n",
       "      <td>-32.336050</td>\n",
       "      <td>2.776550</td>\n",
       "      <td>-0.201300</td>\n",
       "      <td>1.980825</td>\n",
       "      <td>...</td>\n",
       "      <td>0.000000</td>\n",
       "      <td>0.000000</td>\n",
       "      <td>0.000000</td>\n",
       "      <td>0.000000</td>\n",
       "      <td>0.000000</td>\n",
       "      <td>0.000000</td>\n",
       "      <td>7.341860</td>\n",
       "      <td>0.270109</td>\n",
       "      <td>0.015000</td>\n",
       "      <td>0.025000</td>\n",
       "    </tr>\n",
       "    <tr>\n",
       "      <th>50%</th>\n",
       "      <td>1733.500000</td>\n",
       "      <td>7.0</td>\n",
       "      <td>5.546795e+08</td>\n",
       "      <td>1.658600</td>\n",
       "      <td>1.192350</td>\n",
       "      <td>0.298950</td>\n",
       "      <td>2.234700</td>\n",
       "      <td>4.232000</td>\n",
       "      <td>0.041400</td>\n",
       "      <td>3.693050</td>\n",
       "      <td>...</td>\n",
       "      <td>0.000000</td>\n",
       "      <td>0.000000</td>\n",
       "      <td>0.000000</td>\n",
       "      <td>0.000000</td>\n",
       "      <td>0.000000</td>\n",
       "      <td>0.000000</td>\n",
       "      <td>11.139625</td>\n",
       "      <td>0.331301</td>\n",
       "      <td>0.081500</td>\n",
       "      <td>0.100000</td>\n",
       "    </tr>\n",
       "    <tr>\n",
       "      <th>75%</th>\n",
       "      <td>2599.750000</td>\n",
       "      <td>7.0</td>\n",
       "      <td>1.141754e+09</td>\n",
       "      <td>2.869000</td>\n",
       "      <td>2.102675</td>\n",
       "      <td>0.582800</td>\n",
       "      <td>40.000000</td>\n",
       "      <td>6.137625</td>\n",
       "      <td>0.412875</td>\n",
       "      <td>7.147425</td>\n",
       "      <td>...</td>\n",
       "      <td>0.000000</td>\n",
       "      <td>0.000000</td>\n",
       "      <td>0.000000</td>\n",
       "      <td>0.000000</td>\n",
       "      <td>0.000000</td>\n",
       "      <td>0.000000</td>\n",
       "      <td>17.773328</td>\n",
       "      <td>0.410100</td>\n",
       "      <td>0.281500</td>\n",
       "      <td>0.324553</td>\n",
       "    </tr>\n",
       "    <tr>\n",
       "      <th>max</th>\n",
       "      <td>3466.000000</td>\n",
       "      <td>7.0</td>\n",
       "      <td>3.564070e+11</td>\n",
       "      <td>9.655978</td>\n",
       "      <td>7.902542</td>\n",
       "      <td>2.483676</td>\n",
       "      <td>1908.629125</td>\n",
       "      <td>16.467529</td>\n",
       "      <td>4.051351</td>\n",
       "      <td>44.179662</td>\n",
       "      <td>...</td>\n",
       "      <td>1.000000</td>\n",
       "      <td>1.000000</td>\n",
       "      <td>1.000000</td>\n",
       "      <td>1.000000</td>\n",
       "      <td>1.000000</td>\n",
       "      <td>1.000000</td>\n",
       "      <td>647.769898</td>\n",
       "      <td>1.500275</td>\n",
       "      <td>10.999000</td>\n",
       "      <td>8.893000</td>\n",
       "    </tr>\n",
       "  </tbody>\n",
       "</table>\n",
       "<p>8 rows × 27 columns</p>\n",
       "</div>"
      ],
      "text/plain": [
       "              股票编号  年份（年末）           总股本       每股资本公积      每股未分配利润  \\\n",
       "count  3466.000000  3466.0  3.466000e+03  3466.000000  3466.000000   \n",
       "mean   1733.500000     7.0  1.740856e+09     2.117344     1.470473   \n",
       "std    1000.692344     0.0  1.152613e+10     1.857322     1.668506   \n",
       "min       1.000000     7.0  4.216000e+07    -1.184800    -4.864241   \n",
       "25%     867.250000     7.0  2.725216e+08     0.787450     0.588625   \n",
       "50%    1733.500000     7.0  5.546795e+08     1.658600     1.192350   \n",
       "75%    2599.750000     7.0  1.141754e+09     2.869000     2.102675   \n",
       "max    3466.000000     7.0  3.564070e+11     9.655978     7.902542   \n",
       "\n",
       "            基本每股收益  基本每股收益同比增长(%)        每股净资产        每股现金流       每股营业收入  ...  \\\n",
       "count  3466.000000    3466.000000  3466.000000  3466.000000  3466.000000  ...   \n",
       "mean      0.386744       4.550138     4.858675     0.157358     5.978280  ...   \n",
       "std       0.498584     278.326589     3.034256     0.988254     7.043480  ...   \n",
       "min      -1.697218   -1913.611835    -2.658300    -3.712726     0.019200  ...   \n",
       "25%       0.119400     -32.336050     2.776550    -0.201300     1.980825  ...   \n",
       "50%       0.298950       2.234700     4.232000     0.041400     3.693050  ...   \n",
       "75%       0.582800      40.000000     6.137625     0.412875     7.147425  ...   \n",
       "max       2.483676    1908.629125    16.467529     4.051351    44.179662  ...   \n",
       "\n",
       "              房地产业       批发和零售业  电力、热力、燃气及水生产和供应业           综合          采矿业  \\\n",
       "count  3466.000000  3466.000000       3466.000000  3466.000000  3466.000000   \n",
       "mean      0.036065     0.047317          0.030871     0.006924     0.021639   \n",
       "std       0.186478     0.212346          0.172994     0.082936     0.145522   \n",
       "min       0.000000     0.000000          0.000000     0.000000     0.000000   \n",
       "25%       0.000000     0.000000          0.000000     0.000000     0.000000   \n",
       "50%       0.000000     0.000000          0.000000     0.000000     0.000000   \n",
       "75%       0.000000     0.000000          0.000000     0.000000     0.000000   \n",
       "max       1.000000     1.000000          1.000000     1.000000     1.000000   \n",
       "\n",
       "         是否有行业龙头概念  股价（年末最后20个交易日收盘价加权平均）      股价年化波动率       本年送转比例  \\\n",
       "count  3466.000000            3466.000000  3466.000000  3466.000000   \n",
       "mean      0.122620              14.790861     0.348058     0.225274   \n",
       "std       0.328048              16.664863     0.121286     0.378512   \n",
       "min       0.000000               1.169499     0.000000     0.000000   \n",
       "25%       0.000000               7.341860     0.270109     0.015000   \n",
       "50%       0.000000              11.139625     0.331301     0.081500   \n",
       "75%       0.000000              17.773328     0.410100     0.281500   \n",
       "max       1.000000             647.769898     1.500275    10.999000   \n",
       "\n",
       "         近两年送转比例平均  \n",
       "count  3466.000000  \n",
       "mean      0.217875  \n",
       "std       0.318029  \n",
       "min       0.000000  \n",
       "25%       0.025000  \n",
       "50%       0.100000  \n",
       "75%       0.324553  \n",
       "max       8.893000  \n",
       "\n",
       "[8 rows x 27 columns]"
      ]
     },
     "execution_count": 52,
     "metadata": {},
     "output_type": "execute_result"
    }
   ],
   "source": [
    "data_pred.describe()"
   ]
  },
  {
   "cell_type": "markdown",
   "metadata": {},
   "source": [
    "导入模型，预测在次年（第八年）高送转的情况"
   ]
  },
  {
   "cell_type": "code",
   "execution_count": 93,
   "metadata": {},
   "outputs": [],
   "source": [
    "import pickle\n",
    "from xgboost import XGBClassifier\n",
    "from sklearn.externals import joblib\n",
    "file_name = 'Model/XGBoost.dat'\n",
    "model = pickle.load(open(file_name, \"rb\"))"
   ]
  },
  {
   "cell_type": "code",
   "execution_count": 94,
   "metadata": {},
   "outputs": [],
   "source": [
    "predictions = model.predict(data_pred.iloc[:,2:])"
   ]
  },
  {
   "cell_type": "code",
   "execution_count": 96,
   "metadata": {},
   "outputs": [
    {
     "name": "stdout",
     "output_type": "stream",
     "text": [
      "预测将在第八年高送转的股票数为:223\n"
     ]
    }
   ],
   "source": [
    "print('预测将在第八年高送转的股票数为:%d'%np.sum(predictions))"
   ]
  },
  {
   "cell_type": "code",
   "execution_count": 63,
   "metadata": {},
   "outputs": [],
   "source": [
    "trans_list = data_pred[predictions == 1]['股票编号'].values"
   ]
  },
  {
   "cell_type": "code",
   "execution_count": 67,
   "metadata": {},
   "outputs": [
    {
     "name": "stdout",
     "output_type": "stream",
     "text": [
      "[  10   23   40   41   50   60   88  165  179  187  188  191  194  215\n",
      "  219  224  258  265  266  293  299  343  352  356  373  387  398  402\n",
      "  403  415  417  458  468  470  493  509  518  534  537  570  598  603\n",
      "  621  637  700  742  747  748  749  762  764  789  793  795  842  864\n",
      "  874  902  915  922  955  957  968 1003 1013 1026 1033 1044 1071 1095\n",
      " 1101 1122 1144 1161 1166 1182 1183 1252 1260 1313 1317 1321 1332 1341\n",
      " 1346 1366 1386 1389 1395 1450 1460 1481 1483 1499 1510 1524 1535 1543\n",
      " 1548 1559 1581 1590 1607 1609 1616 1646 1660 1668 1694 1754 1759 1765\n",
      " 1769 1785 1812 1815 1817 1835 1860 1864 1874 1886 1909 1913 1922 1933\n",
      " 1943 1967 1985 1998 2024 2028 2034 2038 2040 2079 2086 2118 2119 2120\n",
      " 2124 2152 2154 2197 2216 2233 2247 2279 2307 2340 2359 2386 2390 2409\n",
      " 2437 2438 2460 2480 2494 2520 2533 2550 2552 2559 2560 2599 2601 2630\n",
      " 2644 2652 2673 2686 2687 2697 2703 2710 2724 2759 2774 2852 2881 2905\n",
      " 2924 2949 2958 2971 2977 2991 3026 3042 3044 3056 3076 3078 3091 3093\n",
      " 3113 3127 3136 3188 3217 3219 3220 3228 3238 3242 3243 3295 3296 3309\n",
      " 3311 3312 3324 3341 3354 3367 3373 3390 3394 3414 3441 3443 3445]\n"
     ]
    }
   ],
   "source": [
    "print(trans_list)"
   ]
  },
  {
   "cell_type": "code",
   "execution_count": 106,
   "metadata": {},
   "outputs": [],
   "source": [
    "pred_save = pd.DataFrame()\n",
    "pred_save['股票编号'] = data_pred['股票编号']\n",
    "pred_save['预测第八年是否高送转'] = predictions\n",
    "pred_save.to_csv('temp/预测结果.csv',index = False)"
   ]
  },
  {
   "cell_type": "code",
   "execution_count": null,
   "metadata": {},
   "outputs": [],
   "source": []
  }
 ],
 "metadata": {
  "kernelspec": {
   "display_name": "Python 3",
   "language": "python",
   "name": "python3"
  },
  "language_info": {
   "codemirror_mode": {
    "name": "ipython",
    "version": 3
   },
   "file_extension": ".py",
   "mimetype": "text/x-python",
   "name": "python",
   "nbconvert_exporter": "python",
   "pygments_lexer": "ipython3",
   "version": "3.6.2"
  }
 },
 "nbformat": 4,
 "nbformat_minor": 2
}
