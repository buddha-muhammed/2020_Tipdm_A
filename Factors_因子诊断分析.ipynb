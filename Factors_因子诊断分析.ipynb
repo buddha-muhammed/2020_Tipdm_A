{
 "cells": [
  {
   "cell_type": "code",
   "execution_count": 12,
   "metadata": {},
   "outputs": [],
   "source": [
    "from scipy import stats\n",
    "import pandas as pd\n",
    "import numpy as np\n",
    "import warnings\n",
    "warnings.filterwarnings(\"ignore\")"
   ]
  },
  {
   "cell_type": "code",
   "execution_count": 13,
   "metadata": {},
   "outputs": [],
   "source": [
    "data = pd.read_csv('temp/预处理因子数据.csv',encoding = 'GBK',engine = 'python')"
   ]
  },
  {
   "cell_type": "code",
   "execution_count": 14,
   "metadata": {},
   "outputs": [
    {
     "name": "stdout",
     "output_type": "stream",
     "text": [
      "股票编号\n",
      "年份（年末）\n",
      "总股本\n",
      "每股资本公积\n",
      "每股未分配利润\n",
      "基本每股收益\n",
      "基本每股收益同比增长(%)\n",
      "每股净资产\n",
      "每股净资产相对年初增长(%)\n",
      "每股现金流\n",
      "每股营业收入\n",
      "营业收入同比增速(%)\n",
      "加权平均净资产收益率\n",
      "摊薄净资产收益率同比增长(%)\n",
      "净利润同比增长\n",
      "上市年限\n",
      "交通运输、仓储和邮政业\n",
      "住宿和餐饮业\n",
      "信息传输、软件和信息技术服务业\n",
      "农、林、牧、渔业\n",
      "制造业\n",
      "卫生和社会工作\n",
      "建筑业\n",
      "房地产业\n",
      "批发和零售业\n",
      "教育\n",
      "文化、体育和娱乐业\n",
      "水利、环境和公共设施管理业\n",
      "电力、热力、燃气及水生产和供应业\n",
      "科学研究和技术服务业\n",
      "租赁和商务服务业\n",
      "综合\n",
      "采矿业\n",
      "金融业\n",
      "是否次新股\n",
      "是否小盘成长\n",
      "是否有行业龙头概念\n",
      "股价（年末最后20个交易日收盘价加权平均）\n",
      "股价年化波动率\n",
      "本年送转比例\n",
      "近两年送转比例平均\n",
      "次年是否送转\n",
      "次年是否高送转\n"
     ]
    }
   ],
   "source": [
    "for x in data.columns:\n",
    "    print(x)"
   ]
  },
  {
   "cell_type": "code",
   "execution_count": 15,
   "metadata": {},
   "outputs": [
    {
     "name": "stdout",
     "output_type": "stream",
     "text": [
      "因子-总股本：\n",
      " f-value:10.15,p-value:0.001\n",
      "因子-每股资本公积：\n",
      " f-value:564.80,p-value:0.000\n",
      "因子-每股未分配利润：\n",
      " f-value:895.52,p-value:0.000\n",
      "因子-基本每股收益：\n",
      " f-value:1441.78,p-value:0.000\n",
      "因子-基本每股收益同比增长(%)：\n",
      " f-value:29.36,p-value:0.000\n",
      "因子-每股净资产：\n",
      " f-value:1128.30,p-value:0.000\n",
      "因子-每股净资产相对年初增长(%)：\n",
      " f-value:0.01,p-value:0.941\n",
      "因子-每股现金流：\n",
      " f-value:48.62,p-value:0.000\n",
      "因子-每股营业收入：\n",
      " f-value:105.48,p-value:0.000\n",
      "因子-营业收入同比增速(%)：\n",
      " f-value:0.59,p-value:0.442\n",
      "因子-加权平均净资产收益率：\n",
      " f-value:0.20,p-value:0.657\n",
      "因子-摊薄净资产收益率同比增长(%)：\n",
      " f-value:30.08,p-value:0.000\n",
      "因子-净利润同比增长：\n",
      " f-value:20.73,p-value:0.000\n",
      "因子-上市年限：\n",
      " f-value:610.80,p-value:0.000\n",
      "因子-交通运输、仓储和邮政业：\n",
      " f-value:13.90,p-value:0.000\n",
      "因子-住宿和餐饮业：\n",
      " f-value:4.21,p-value:0.040\n",
      "因子-信息传输、软件和信息技术服务业：\n",
      " f-value:44.24,p-value:0.000\n",
      "因子-农、林、牧、渔业：\n",
      " f-value:0.29,p-value:0.592\n",
      "因子-制造业：\n",
      " f-value:32.69,p-value:0.000\n",
      "因子-卫生和社会工作：\n",
      " f-value:2.77,p-value:0.096\n",
      "因子-建筑业：\n",
      " f-value:0.13,p-value:0.720\n",
      "因子-房地产业：\n",
      " f-value:14.00,p-value:0.000\n",
      "因子-批发和零售业：\n",
      " f-value:21.16,p-value:0.000\n",
      "因子-教育：\n",
      " f-value:0.34,p-value:0.557\n",
      "因子-文化、体育和娱乐业：\n",
      " f-value:0.02,p-value:0.895\n",
      "因子-水利、环境和公共设施管理业：\n",
      " f-value:0.19,p-value:0.662\n",
      "因子-电力、热力、燃气及水生产和供应业：\n",
      " f-value:29.06,p-value:0.000\n",
      "因子-科学研究和技术服务业：\n",
      " f-value:0.79,p-value:0.375\n",
      "因子-租赁和商务服务业：\n",
      " f-value:1.80,p-value:0.180\n",
      "因子-综合：\n",
      " f-value:19.90,p-value:0.000\n",
      "因子-采矿业：\n",
      " f-value:25.13,p-value:0.000\n",
      "因子-金融业：\n",
      " f-value:1.11,p-value:0.291\n",
      "因子-是否次新股：\n",
      " f-value:nan,p-value:nan\n",
      "因子-是否小盘成长：\n",
      " f-value:0.97,p-value:0.325\n",
      "因子-是否有行业龙头概念：\n",
      " f-value:152.36,p-value:0.000\n",
      "因子-股价（年末最后20个交易日收盘价加权平均）：\n",
      " f-value:7.79,p-value:0.005\n",
      "因子-股价年化波动率：\n",
      " f-value:14.63,p-value:0.000\n",
      "因子-本年送转比例：\n",
      " f-value:368.05,p-value:0.000\n",
      "因子-近两年送转比例平均：\n",
      " f-value:525.80,p-value:0.000\n"
     ]
    }
   ],
   "source": [
    "fac_col = []\n",
    "for x in data.columns[2:-2]:\n",
    "    sub_data = data[[x,'次年是否高送转']]\n",
    "    d1 = sub_data[sub_data['次年是否高送转'] == 1][x]\n",
    "    d2 = sub_data[sub_data['次年是否高送转'] == 0][x]\n",
    "\n",
    "    args = [d1,d2]\n",
    "\n",
    "    f,p = stats.f_oneway(*args)\n",
    "    if p <= 0.05:\n",
    "        fac_col.append(x)\n",
    "    print('因子-%s：\\n f-value:%.2f,p-value:%.3f'%(x,f,p))    "
   ]
  },
  {
   "cell_type": "code",
   "execution_count": 16,
   "metadata": {},
   "outputs": [],
   "source": [
    "fac_filter = data[fac_col]\n",
    "fac_filter.to_csv('因子建模数据.csv',index = False, encoding = 'GBK')"
   ]
  },
  {
   "cell_type": "code",
   "execution_count": 17,
   "metadata": {},
   "outputs": [
    {
     "data": {
      "text/plain": [
       "['总股本',\n",
       " '每股资本公积',\n",
       " '每股未分配利润',\n",
       " '基本每股收益',\n",
       " '基本每股收益同比增长(%)',\n",
       " '每股净资产',\n",
       " '每股现金流',\n",
       " '每股营业收入',\n",
       " '摊薄净资产收益率同比增长(%)',\n",
       " '净利润同比增长',\n",
       " '上市年限',\n",
       " '交通运输、仓储和邮政业',\n",
       " '住宿和餐饮业',\n",
       " '信息传输、软件和信息技术服务业',\n",
       " '制造业',\n",
       " '房地产业',\n",
       " '批发和零售业',\n",
       " '电力、热力、燃气及水生产和供应业',\n",
       " '综合',\n",
       " '采矿业',\n",
       " '是否有行业龙头概念',\n",
       " '股价（年末最后20个交易日收盘价加权平均）',\n",
       " '股价年化波动率',\n",
       " '本年送转比例',\n",
       " '近两年送转比例平均']"
      ]
     },
     "execution_count": 17,
     "metadata": {},
     "output_type": "execute_result"
    }
   ],
   "source": [
    "fac_col"
   ]
  },
  {
   "cell_type": "code",
   "execution_count": 18,
   "metadata": {},
   "outputs": [
    {
     "data": {
      "text/plain": [
       "25"
      ]
     },
     "execution_count": 18,
     "metadata": {},
     "output_type": "execute_result"
    }
   ],
   "source": [
    "len(fac_col)"
   ]
  },
  {
   "cell_type": "code",
   "execution_count": null,
   "metadata": {},
   "outputs": [],
   "source": []
  }
 ],
 "metadata": {
  "kernelspec": {
   "display_name": "Python 3",
   "language": "python",
   "name": "python3"
  },
  "language_info": {
   "codemirror_mode": {
    "name": "ipython",
    "version": 3
   },
   "file_extension": ".py",
   "mimetype": "text/x-python",
   "name": "python",
   "nbconvert_exporter": "python",
   "pygments_lexer": "ipython3",
   "version": "3.6.2"
  }
 },
 "nbformat": 4,
 "nbformat_minor": 2
}
