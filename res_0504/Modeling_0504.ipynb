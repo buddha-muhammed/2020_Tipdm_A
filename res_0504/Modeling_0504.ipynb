{
 "cells": [
  {
   "cell_type": "code",
   "execution_count": 1,
   "metadata": {},
   "outputs": [],
   "source": [
    "import numpy as np\n",
    "import pandas as pd"
   ]
  },
  {
   "cell_type": "code",
   "execution_count": 2,
   "metadata": {},
   "outputs": [],
   "source": [
    "#data = pd.read_csv('temp/因子建模数据.csv',encoding = 'GBK',engine = 'python')\n",
    "\n",
    "data = pd.read_csv('temp/因子数据提取.csv',encoding = 'GBK',engine = 'python')\n",
    "data.dropna(inplace = True)"
   ]
  },
  {
   "cell_type": "code",
   "execution_count": 3,
   "metadata": {},
   "outputs": [
    {
     "name": "stdout",
     "output_type": "stream",
     "text": [
      "因子列表：\n",
      "总股本\n",
      "每股资本公积\n",
      "每股未分配利润\n",
      "基本每股收益\n",
      "基本每股收益同比增长(%)\n",
      "每股净资产\n",
      "每股净资产相对年初增长(%)\n",
      "每股现金流\n",
      "每股营业收入\n",
      "营业收入同比增速(%)\n",
      "加权平均净资产收益率\n",
      "摊薄净资产收益率同比增长(%)\n",
      "净利润同比增长\n",
      "上市年限\n",
      "交通运输、仓储和邮政业\n",
      "住宿和餐饮业\n",
      "信息传输、软件和信息技术服务业\n",
      "农、林、牧、渔业\n",
      "制造业\n",
      "卫生和社会工作\n",
      "建筑业\n",
      "房地产业\n",
      "批发和零售业\n",
      "教育\n",
      "文化、体育和娱乐业\n",
      "水利、环境和公共设施管理业\n",
      "电力、热力、燃气及水生产和供应业\n",
      "科学研究和技术服务业\n",
      "租赁和商务服务业\n",
      "综合\n",
      "采矿业\n",
      "金融业\n",
      "是否次新股\n",
      "股价（年末最后20个交易日收盘价加权平均）\n",
      "股价年化波动率\n",
      "本年送转比例\n",
      "近两年送转比例平均\n"
     ]
    }
   ],
   "source": [
    "print('因子列表：')\n",
    "for x in data.columns[2:-2]:\n",
    "    print(x)"
   ]
  },
  {
   "cell_type": "code",
   "execution_count": 4,
   "metadata": {},
   "outputs": [
    {
     "name": "stdout",
     "output_type": "stream",
     "text": [
      "总样本：12811，正样本：1958，负样本：10853，正样本占比:0.1528\n"
     ]
    }
   ],
   "source": [
    "print('总样本：%d，正样本：%d，负样本：%d，正样本占比:%.4f'%(len(data),\n",
    "                              np.sum(data['次年是否高送转']),\n",
    "                              len(data) - np.sum(data['次年是否高送转']),\n",
    "                              np.sum(data['次年是否高送转'])/len(data)))"
   ]
  },
  {
   "cell_type": "code",
   "execution_count": 5,
   "metadata": {},
   "outputs": [
    {
     "name": "stdout",
     "output_type": "stream",
     "text": [
      "训练集：10248，训练集正样本：1578，训练集负样本：8670，正样本占比:0.1540\n",
      "测试集：2563，测试集正样本：380，测试集负样本：2183,正样本占比:0.1483\n"
     ]
    }
   ],
   "source": [
    "from sklearn.model_selection import train_test_split\n",
    "X = data.iloc[:,2:-2]\n",
    "#X.drop(axis = 0,columns = '股价年化波动率')\n",
    "y = data.iloc[:,-1].astype(int).values.reshape(-1)\n",
    "\n",
    "X_train, X_val, y_train, y_val = train_test_split(X, y, test_size = 0.2, random_state = 42)\n",
    "\n",
    "print('训练集：%d，训练集正样本：%d，训练集负样本：%d，正样本占比:%.4f'%(len(y_train),\n",
    "                                    np.sum(y_train),\n",
    "                                    len(y_train) - np.sum(y_train),\n",
    "                                    np.sum(y_train)/len(y_train))\n",
    "     )\n",
    "\n",
    "print('测试集：%d，测试集正样本：%d，测试集负样本：%d,正样本占比:%.4f'%(len(y_val),\n",
    "                                    np.sum(y_val),\n",
    "                                    len(y_val) - np.sum(y_val),\n",
    "                                    np.sum(y_val)/len(y_val))\n",
    "     )"
   ]
  },
  {
   "cell_type": "code",
   "execution_count": 67,
   "metadata": {},
   "outputs": [
    {
     "name": "stdout",
     "output_type": "stream",
     "text": [
      "算法：逻辑回归\n",
      "训练集f1 score:0.2812\n",
      "测试集预测结果：\n",
      "f1_score:0.2774\n",
      "预测高送转股票数：103,实际高送转股票数：380，准确预测的高送转股票数：67\n",
      "高送转覆盖预测率(准确预测的高送转股票数/实际高送转股票数)：17.63%\n",
      "高送转准确预测率(准确预测的高送转股票数/预测高送转股票数)：65.05%\n",
      "\n",
      "高送转预测概率最高前10位样本，实际高送转数量为：9，准确率：90.00%\n",
      "高送转预测概率最高前25位样本，实际高送转数量为：18，准确率：72.00%\n",
      "高送转预测概率最高前50位样本，实际高送转数量为：34，准确率：68.00%\n",
      "高送转预测概率最高前100位样本，实际高送转数量为：65，准确率：65.00%\n"
     ]
    }
   ],
   "source": [
    "X = data.iloc[:,2:-2]\n",
    "#X.drop(axis = 0,columns = '股价年化波动率')\n",
    "y = data.iloc[:,-1].astype(int).values.reshape(-1)\n",
    "\n",
    "\n",
    "X_train, X_val, y_train, y_val = train_test_split(X, y, test_size = 0.2, random_state = 42)\n",
    "\n",
    "\n",
    "\n",
    "from sklearn.preprocessing import StandardScaler\n",
    "Scaler = StandardScaler()\n",
    "Scaler.fit(X_train)\n",
    "X_train_std = Scaler.transform(X_train)\n",
    "X_val_std = Scaler.transform(X_val)\n",
    "\n",
    "#Nor.fit(X_train)\n",
    "\n",
    "\n",
    "from sklearn.linear_model import LogisticRegression as LR\n",
    "#from stability_selection.randomized_lasso import RandomizedLogisticRegression as RLR\n",
    "\n",
    "lr = LR() \n",
    "lr.fit(X_train_std, y_train)\n",
    "\n",
    "from sklearn.metrics import accuracy_score,f1_score,recall_score\n",
    "# 测试集上的预测\n",
    "pred_train = lr.predict(X_train_std)\n",
    "pred = lr.predict(X_val_std)\n",
    "\n",
    "#print('accuracy:%.4f'%accuracy_score(y_val,pred)) //全局准确率预测没有任何意义\n",
    "#print('recall_rate:%.4f%%'%(100*recall_score(y_val,pred)))\n",
    "#print('f1_score:%.4f'%f1_score(y_val,pred))\n",
    "\n",
    "from sklearn.metrics import confusion_matrix\n",
    "mat = confusion_matrix(y_val,pred)\n",
    "print('算法：逻辑回归')\n",
    "print('训练集f1 score:%.4f'%f1_score(y_train,pred_train))\n",
    "print('测试集预测结果：')\n",
    "print('f1_score:%.4f'%f1_score(y_val,pred))\n",
    "\n",
    "cover = mat[1,1]/np.sum(y_val)\n",
    "acc = mat[1,1]/np.sum(pred)\n",
    "cover_acc = np.sqrt(cover*acc)\n",
    "\n",
    "print('预测高送转股票数：%d,实际高送转股票数：%d，准确预测的高送转股票数：%d'%(np.sum(pred),np.sum(y_val),mat[1,1]))\n",
    "print('高送转覆盖预测率(准确预测的高送转股票数/实际高送转股票数)：%.2f%%'%(100*mat[1,1]/np.sum(y_val)))\n",
    "print('高送转准确预测率(准确预测的高送转股票数/预测高送转股票数)：%.2f%%'%(100*mat[1,1]/np.sum(pred)))\n",
    "\n",
    "#print('结合覆盖率与准确率得分：%.4f'%cover_acc)\n",
    "print()\n",
    "# 测试集预测的概率得分\n",
    "proba = lr.predict_proba(X_val_std)\n",
    "pos_proba = [x[1] for x in proba]\n",
    "eva = pd.DataFrame()\n",
    "eva['模型输出概率得分'] = pos_proba\n",
    "eva['实际是否在次年高送转'] = y_val\n",
    "\n",
    "eva.sort_values(by = '模型输出概率得分',ascending = False, inplace = True)\n",
    "print('高送转预测概率最高前10位样本，实际高送转数量为：%d，准确率：%.2f%%'%(np.sum(eva['实际是否在次年高送转'].values[:10]),100*np.mean(eva['实际是否在次年高送转'].values[:10])))\n",
    "print('高送转预测概率最高前25位样本，实际高送转数量为：%d，准确率：%.2f%%'%(np.sum(eva['实际是否在次年高送转'].values[:25]),100*np.mean(eva['实际是否在次年高送转'].values[:25])))\n",
    "print('高送转预测概率最高前50位样本，实际高送转数量为：%d，准确率：%.2f%%'%(np.sum(eva['实际是否在次年高送转'].values[:50]),100*np.mean(eva['实际是否在次年高送转'].values[:50])))\n",
    "print('高送转预测概率最高前100位样本，实际高送转数量为：%d，准确率：%.2f%%'%(np.sum(eva['实际是否在次年高送转'].values[:100]),100*np.mean(eva['实际是否在次年高送转'].values[:100])))\n",
    "\n",
    "\n",
    "#print('最高概率前25位准确率：%.2f%%'%(100*np.mean(eva['实际是否在次年高送转'].values[:25])))\n",
    "#print('最高概率前50位准确率：%.2f%%'%(100*np.mean(eva['实际是否在次年高送转'].values[:50])))\n",
    "#print('最高概率前100位准确率：%.2f%%'%(100*np.mean(eva['实际是否在次年高送转'].values[:100])))"
   ]
  },
  {
   "cell_type": "code",
   "execution_count": 68,
   "metadata": {},
   "outputs": [
    {
     "name": "stdout",
     "output_type": "stream",
     "text": [
      "算法：决策树\n",
      "训练集f1 score:0.3096\n",
      "测试集预测结果：\n",
      "f1_score:0.2821\n",
      "预测高送转股票数：95,实际高送转股票数：380，准确预测的高送转股票数：67\n",
      "高送转覆盖预测率(准确预测的高送转股票数/实际高送转股票数)：17.63%\n",
      "高送转准确预测率(准确预测的高送转股票数/预测高送转股票数)：70.53%\n",
      "\n",
      "高送转预测概率最高前10位样本，实际高送转数量为：5，准确率：50.00%\n",
      "高送转预测概率最高前25位样本，实际高送转数量为：19，准确率：76.00%\n",
      "高送转预测概率最高前50位样本，实际高送转数量为：38，准确率：76.00%\n",
      "高送转预测概率最高前100位样本，实际高送转数量为：69，准确率：69.00%\n"
     ]
    }
   ],
   "source": [
    "from sklearn.tree import DecisionTreeClassifier\n",
    "#from stability_selection.randomized_lasso import RandomizedLogisticRegression as RLR\n",
    "\n",
    "dt = DecisionTreeClassifier(max_depth = 5)\n",
    "dt.fit(X_train_std, y_train)\n",
    "\n",
    "from sklearn.metrics import accuracy_score,f1_score,recall_score\n",
    "# 测试集上的预测\n",
    "pred_train = dt.predict(X_train_std)\n",
    "pred = dt.predict(X_val_std)\n",
    "\n",
    "#print('accuracy:%.4f'%accuracy_score(y_val,pred)) //全局准确率预测没有任何意义\n",
    "#print('recall_rate:%.4f%%'%(100*recall_score(y_val,pred)))\n",
    "#print('f1_score:%.4f'%f1_score(y_val,pred))\n",
    "\n",
    "from sklearn.metrics import confusion_matrix\n",
    "mat = confusion_matrix(y_val,pred)\n",
    "print('算法：决策树')\n",
    "print('训练集f1 score:%.4f'%f1_score(y_train,pred_train))\n",
    "print('测试集预测结果：')\n",
    "print('f1_score:%.4f'%f1_score(y_val,pred))\n",
    "\n",
    "cover = mat[1,1]/np.sum(y_val)\n",
    "acc = mat[1,1]/np.sum(pred)\n",
    "cover_acc = np.sqrt(cover*acc)\n",
    "\n",
    "print('预测高送转股票数：%d,实际高送转股票数：%d，准确预测的高送转股票数：%d'%(np.sum(pred),np.sum(y_val),mat[1,1]))\n",
    "print('高送转覆盖预测率(准确预测的高送转股票数/实际高送转股票数)：%.2f%%'%(100*mat[1,1]/np.sum(y_val)))\n",
    "print('高送转准确预测率(准确预测的高送转股票数/预测高送转股票数)：%.2f%%'%(100*mat[1,1]/np.sum(pred)))\n",
    "\n",
    "#print('结合覆盖率与准确率得分：%.4f'%cover_acc)\n",
    "print()\n",
    "# 测试集预测的概率得分\n",
    "proba = dt.predict_proba(X_val_std)\n",
    "pos_proba = [x[1] for x in proba]\n",
    "eva = pd.DataFrame()\n",
    "eva['模型输出概率得分'] = pos_proba\n",
    "eva['实际是否在次年高送转'] = y_val\n",
    "\n",
    "eva.sort_values(by = '模型输出概率得分',ascending = False, inplace = True)\n",
    "print('高送转预测概率最高前10位样本，实际高送转数量为：%d，准确率：%.2f%%'%(np.sum(eva['实际是否在次年高送转'].values[:10]),100*np.mean(eva['实际是否在次年高送转'].values[:10])))\n",
    "print('高送转预测概率最高前25位样本，实际高送转数量为：%d，准确率：%.2f%%'%(np.sum(eva['实际是否在次年高送转'].values[:25]),100*np.mean(eva['实际是否在次年高送转'].values[:25])))\n",
    "print('高送转预测概率最高前50位样本，实际高送转数量为：%d，准确率：%.2f%%'%(np.sum(eva['实际是否在次年高送转'].values[:50]),100*np.mean(eva['实际是否在次年高送转'].values[:50])))\n",
    "print('高送转预测概率最高前100位样本，实际高送转数量为：%d，准确率：%.2f%%'%(np.sum(eva['实际是否在次年高送转'].values[:100]),100*np.mean(eva['实际是否在次年高送转'].values[:100])))\n",
    "\n"
   ]
  },
  {
   "cell_type": "code",
   "execution_count": 77,
   "metadata": {},
   "outputs": [
    {
     "name": "stdout",
     "output_type": "stream",
     "text": [
      "算法：XGBoost\n",
      "训练集f1 score:0.4321\n",
      "测试集预测结果：\n",
      "f1_score:0.4015\n",
      "预测高送转股票数：148,实际高送转股票数：380，准确预测的高送转股票数：106\n",
      "高送转覆盖预测率(准确预测的高送转股票数/实际高送转股票数)：27.89%\n",
      "高送转准确预测率(准确预测的高送转股票数/预测高送转股票数)：71.62%\n",
      "\n",
      "高送转预测概率最高前10位样本，实际高送转数量为：8，准确率：80.00%\n",
      "高送转预测概率最高前25位样本，实际高送转数量为：21，准确率：84.00%\n",
      "高送转预测概率最高前50位样本，实际高送转数量为：38，准确率：76.00%\n",
      "高送转预测概率最高前100位样本，实际高送转数量为：75，准确率：75.00%\n"
     ]
    }
   ],
   "source": [
    "from xgboost import XGBClassifier\n",
    "# XGB为基于决策树集成模型，不用刻意做标准化或者降维\n",
    "clf = XGBClassifier(max_depth = 3, n_estimators = 100, learning_rate = 0.12,min_child_weight = 1.4)\n",
    "#clf = XGBClassifier(max_depth = 3, n_estimators = 100)\n",
    "\n",
    "clf.fit(X_train, y_train)\n",
    "#clf.fit(X_resampled, y_resampled) # 朴素随机过采样的方法\n",
    "#clf.fit(X_resampled_smote, y_resampled_smote)\n",
    "\n",
    "\n",
    "from sklearn.metrics import accuracy_score,f1_score,recall_score\n",
    "# 测试集上的预测\n",
    "pred_train = clf.predict(X_train)\n",
    "pred = clf.predict(X_val)\n",
    "\n",
    "#print('accuracy:%.4f'%accuracy_score(y_val,pred)) //全局准确率预测没有任何意义\n",
    "#print('recall_rate:%.4f%%'%(100*recall_score(y_val,pred)))\n",
    "#print('f1_score:%.4f'%f1_score(y_val,pred))\n",
    "\n",
    "from sklearn.metrics import confusion_matrix\n",
    "mat = confusion_matrix(y_val,pred)\n",
    "print('算法：XGBoost')\n",
    "print('训练集f1 score:%.4f'%f1_score(y_train,pred_train))\n",
    "print('测试集预测结果：')\n",
    "print('f1_score:%.4f'%f1_score(y_val,pred))\n",
    "\n",
    "cover = mat[1,1]/np.sum(y_val)\n",
    "acc = mat[1,1]/np.sum(pred)\n",
    "cover_acc = np.sqrt(cover*acc)\n",
    "\n",
    "print('预测高送转股票数：%d,实际高送转股票数：%d，准确预测的高送转股票数：%d'%(np.sum(pred),np.sum(y_val),mat[1,1]))\n",
    "print('高送转覆盖预测率(准确预测的高送转股票数/实际高送转股票数)：%.2f%%'%(100*mat[1,1]/np.sum(y_val)))\n",
    "print('高送转准确预测率(准确预测的高送转股票数/预测高送转股票数)：%.2f%%'%(100*mat[1,1]/np.sum(pred)))\n",
    "\n",
    "#print('结合覆盖率与准确率得分：%.4f'%cover_acc)\n",
    "print()\n",
    "\n",
    "# 测试集预测的概率得分\n",
    "proba = clf.predict_proba(X_val)\n",
    "pos_proba = [x[1] for x in proba]\n",
    "eva = pd.DataFrame()\n",
    "eva['模型输出概率得分'] = pos_proba\n",
    "eva['实际是否在次年高送转'] = y_val\n",
    "\n",
    "eva.sort_values(by = '模型输出概率得分',ascending = False, inplace = True)\n",
    "print('高送转预测概率最高前10位样本，实际高送转数量为：%d，准确率：%.2f%%'%(np.sum(eva['实际是否在次年高送转'].values[:10]),100*np.mean(eva['实际是否在次年高送转'].values[:10])))\n",
    "print('高送转预测概率最高前25位样本，实际高送转数量为：%d，准确率：%.2f%%'%(np.sum(eva['实际是否在次年高送转'].values[:25]),100*np.mean(eva['实际是否在次年高送转'].values[:25])))\n",
    "print('高送转预测概率最高前50位样本，实际高送转数量为：%d，准确率：%.2f%%'%(np.sum(eva['实际是否在次年高送转'].values[:50]),100*np.mean(eva['实际是否在次年高送转'].values[:50])))\n",
    "print('高送转预测概率最高前100位样本，实际高送转数量为：%d，准确率：%.2f%%'%(np.sum(eva['实际是否在次年高送转'].values[:100]),100*np.mean(eva['实际是否在次年高送转'].values[:100])))\n",
    "\n"
   ]
  },
  {
   "cell_type": "code",
   "execution_count": 70,
   "metadata": {},
   "outputs": [
    {
     "name": "stderr",
     "output_type": "stream",
     "text": [
      "/home/linux/anaconda3/lib/python3.6/site-packages/matplotlib/figure.py:2022: UserWarning: This figure includes Axes that are not compatible with tight_layout, so results might be incorrect.\n",
      "  warnings.warn(\"This figure includes Axes that are not compatible \"\n"
     ]
    },
    {
     "data": {
      "image/png": "[encoded data removed]",
      "text/plain": [
       "<matplotlib.figure.Figure at 0x7fd0a36e0c50>"
      ]
     },
     "metadata": {},
     "output_type": "display_data"
    }
   ],
   "source": [
    "# 特征重要性\n",
    "from xgboost import plot_importance\n",
    "import matplotlib.pyplot as plt\n",
    "# 解决中文和负号显示问题\n",
    "plt.rcParams['font.sans-serif']=['SimHei']\n",
    "plt.rcParams['axes.unicode_minus'] = False\n",
    "# 使显示图标自适应\n",
    "plt.rcParams['figure.autolayout'] = True\n",
    "plot_importance(clf, title='高送转影响特征重要性排序', xlabel='得分', ylabel='特征', grid=False, max_num_features = 20)\n",
    "plt.show()"
   ]
  },
  {
   "cell_type": "code",
   "execution_count": null,
   "metadata": {},
   "outputs": [],
   "source": []
  }
 ],
 "metadata": {
  "kernelspec": {
   "display_name": "Python 3",
   "language": "python",
   "name": "python3"
  },
  "language_info": {
   "codemirror_mode": {
    "name": "ipython",
    "version": 3
   },
   "file_extension": ".py",
   "mimetype": "text/x-python",
   "name": "python",
   "nbconvert_exporter": "python",
   "pygments_lexer": "ipython3",
   "version": "3.6.2"
  }
 },
 "nbformat": 4,
 "nbformat_minor": 2
}
